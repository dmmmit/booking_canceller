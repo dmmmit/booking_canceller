{
  "nbformat": 4,
  "nbformat_minor": 0,
  "metadata": {
    "colab": {
      "provenance": [],
      "include_colab_link": true
    },
    "kernelspec": {
      "name": "python3",
      "display_name": "Python 3"
    },
    "language_info": {
      "name": "python"
    }
  },
  "cells": [
    {
      "cell_type": "markdown",
      "metadata": {
        "id": "view-in-github",
        "colab_type": "text"
      },
      "source": [
        "<a href=\"https://colab.research.google.com/github/dmmmit/booking_canceller/blob/main/stacking_cat_xgb.ipynb\" target=\"_parent\"><img src=\"https://colab.research.google.com/assets/colab-badge.svg\" alt=\"Open In Colab\"/></a>"
      ]
    },
    {
      "cell_type": "code",
      "execution_count": null,
      "metadata": {
        "id": "L8IzNhNAKz8E"
      },
      "outputs": [],
      "source": [
        "import os\n",
        "import random\n",
        "import pandas as pd\n",
        "import numpy as np\n",
        "import torch\n",
        "import tensorflow as tf\n",
        "\n",
        "\n",
        "DEFAULT_RANDOM_SEED = 42\n",
        "\n",
        "\n",
        "def set_all_seeds(seed=DEFAULT_RANDOM_SEED):\n",
        "\n",
        "    # python's seeds\n",
        "    random.seed(seed)\n",
        "    os.environ['PYTHONHASHSEED'] = str(seed)\n",
        "    np.random.seed(seed)\n",
        "\n",
        "    # torch's seeds\n",
        "    torch.manual_seed(seed)\n",
        "    torch.cuda.manual_seed(seed)\n",
        "    torch.backends.cudnn.deterministic = True\n",
        "    torch.backends.cudnn.benchmark = False\n",
        "\n",
        "    # tensorflow's seed\n",
        "    tf.random.set_seed(seed)\n",
        "\n",
        "\n",
        "set_all_seeds(seed=DEFAULT_RANDOM_SEED)"
      ]
    },
    {
      "cell_type": "code",
      "source": [
        "import warnings\n",
        "warnings.filterwarnings(\"ignore\")"
      ],
      "metadata": {
        "id": "URkrSx3BMefX"
      },
      "execution_count": null,
      "outputs": []
    },
    {
      "cell_type": "code",
      "source": [
        "!pip install openpyxl catboost >> None"
      ],
      "metadata": {
        "id": "JLEmbZNnLNcN"
      },
      "execution_count": null,
      "outputs": []
    },
    {
      "cell_type": "code",
      "source": [
        "from sklearn.metrics import roc_auc_score\n",
        "from sklearn.model_selection import train_test_split\n",
        "from sklearn.metrics import accuracy_score\n",
        "\n",
        "import lightgbm as lgb\n",
        "import xgboost as xgb\n",
        "import catboost as cb"
      ],
      "metadata": {
        "id": "FLalXV-0K71L"
      },
      "execution_count": null,
      "outputs": []
    },
    {
      "cell_type": "code",
      "source": [
        "train_data = pd.read_excel('train.xlsx')\n",
        "test_data = pd.read_excel('test.xlsx')\n",
        "\n",
        "if 'Статус брони' in train_data.columns:\n",
        "    train_data = train_data.drop(columns=['Статус брони', 'Unnamed: 0'])\n",
        "if 'Unnamed: 0' in test_data.columns:\n",
        "    test_data = test_data.drop(columns=['Unnamed: 0'])\n"
      ],
      "metadata": {
        "id": "lWJAZFeYK-zX"
      },
      "execution_count": null,
      "outputs": []
    },
    {
      "cell_type": "code",
      "source": [
        "if \"№ брони\" in train_data.columns:\n",
        "    train_data.drop(columns=['№ брони'], inplace=True)\n",
        "if \"№ брони\" in test_data.columns:\n",
        "    test_data.drop(columns=['№ брони'], inplace=True)\n",
        "train_data.sample(5)"
      ],
      "metadata": {
        "colab": {
          "base_uri": "https://localhost:8080/",
          "height": 310
        },
        "id": "kxp1WQ3CLpPm",
        "outputId": "8ea7373f-75a6-4a28-ba4b-f6a5bb3623b7"
      },
      "execution_count": null,
      "outputs": [
        {
          "output_type": "execute_result",
          "data": {
            "text/plain": [
              "       Номеров  Стоимость  Внесена предоплата  \\\n",
              "5405         1    13900.0               13900   \n",
              "20995        1     8700.0                   0   \n",
              "15439        1    28800.0               28800   \n",
              "19500        1    23200.0               23200   \n",
              "17112        1    13900.0               13900   \n",
              "\n",
              "                                           Способ оплаты   Дата бронирования  \\\n",
              "5405              Банк. карта: Банк Россия (банк. карта) 2022-05-17 11:23:03   \n",
              "20995                                      При заселении 2023-04-19 09:32:46   \n",
              "15439             Банк. карта: Банк Россия (банк. карта) 2023-08-04 00:47:36   \n",
              "19500             Банк. карта: Банк Россия (банк. карта) 2023-06-10 19:41:15   \n",
              "17112  Отложенная электронная оплата: Банк Россия (ба... 2022-08-22 11:12:58   \n",
              "\n",
              "      Дата отмены               Заезд  Ночей               Выезд  \\\n",
              "5405          NaT 2022-05-28 15:00:00      1 2022-05-29 12:00:00   \n",
              "20995         NaT 2023-04-22 15:00:00      1 2023-04-23 12:00:00   \n",
              "15439         NaT 2023-08-17 15:00:00      2 2023-08-19 12:00:00   \n",
              "19500         NaT 2023-08-15 15:00:00      1 2023-08-16 12:00:00   \n",
              "17112         NaT 2022-08-29 15:00:00      1 2022-08-30 12:00:00   \n",
              "\n",
              "                         Источник  Категория номера  Гостей  Гостиница  \n",
              "5405             Официальный сайт  Номер «Стандарт»       2          2  \n",
              "20995            Официальный сайт  Номер «Стандарт»       2          1  \n",
              "15439        Программа лояльности  Номер «Стандарт»       2          3  \n",
              "19500            Официальный сайт    Номер «Студия»       2          4  \n",
              "17112  Бронирование из экстранета  Номер «Стандарт»       2          2  "
            ],
            "text/html": [
              "\n",
              "  <div id=\"df-9a85d416-9ace-4930-afb6-6fab23e8495f\" class=\"colab-df-container\">\n",
              "    <div>\n",
              "<style scoped>\n",
              "    .dataframe tbody tr th:only-of-type {\n",
              "        vertical-align: middle;\n",
              "    }\n",
              "\n",
              "    .dataframe tbody tr th {\n",
              "        vertical-align: top;\n",
              "    }\n",
              "\n",
              "    .dataframe thead th {\n",
              "        text-align: right;\n",
              "    }\n",
              "</style>\n",
              "<table border=\"1\" class=\"dataframe\">\n",
              "  <thead>\n",
              "    <tr style=\"text-align: right;\">\n",
              "      <th></th>\n",
              "      <th>Номеров</th>\n",
              "      <th>Стоимость</th>\n",
              "      <th>Внесена предоплата</th>\n",
              "      <th>Способ оплаты</th>\n",
              "      <th>Дата бронирования</th>\n",
              "      <th>Дата отмены</th>\n",
              "      <th>Заезд</th>\n",
              "      <th>Ночей</th>\n",
              "      <th>Выезд</th>\n",
              "      <th>Источник</th>\n",
              "      <th>Категория номера</th>\n",
              "      <th>Гостей</th>\n",
              "      <th>Гостиница</th>\n",
              "    </tr>\n",
              "  </thead>\n",
              "  <tbody>\n",
              "    <tr>\n",
              "      <th>5405</th>\n",
              "      <td>1</td>\n",
              "      <td>13900.0</td>\n",
              "      <td>13900</td>\n",
              "      <td>Банк. карта: Банк Россия (банк. карта)</td>\n",
              "      <td>2022-05-17 11:23:03</td>\n",
              "      <td>NaT</td>\n",
              "      <td>2022-05-28 15:00:00</td>\n",
              "      <td>1</td>\n",
              "      <td>2022-05-29 12:00:00</td>\n",
              "      <td>Официальный сайт</td>\n",
              "      <td>Номер «Стандарт»</td>\n",
              "      <td>2</td>\n",
              "      <td>2</td>\n",
              "    </tr>\n",
              "    <tr>\n",
              "      <th>20995</th>\n",
              "      <td>1</td>\n",
              "      <td>8700.0</td>\n",
              "      <td>0</td>\n",
              "      <td>При заселении</td>\n",
              "      <td>2023-04-19 09:32:46</td>\n",
              "      <td>NaT</td>\n",
              "      <td>2023-04-22 15:00:00</td>\n",
              "      <td>1</td>\n",
              "      <td>2023-04-23 12:00:00</td>\n",
              "      <td>Официальный сайт</td>\n",
              "      <td>Номер «Стандарт»</td>\n",
              "      <td>2</td>\n",
              "      <td>1</td>\n",
              "    </tr>\n",
              "    <tr>\n",
              "      <th>15439</th>\n",
              "      <td>1</td>\n",
              "      <td>28800.0</td>\n",
              "      <td>28800</td>\n",
              "      <td>Банк. карта: Банк Россия (банк. карта)</td>\n",
              "      <td>2023-08-04 00:47:36</td>\n",
              "      <td>NaT</td>\n",
              "      <td>2023-08-17 15:00:00</td>\n",
              "      <td>2</td>\n",
              "      <td>2023-08-19 12:00:00</td>\n",
              "      <td>Программа лояльности</td>\n",
              "      <td>Номер «Стандарт»</td>\n",
              "      <td>2</td>\n",
              "      <td>3</td>\n",
              "    </tr>\n",
              "    <tr>\n",
              "      <th>19500</th>\n",
              "      <td>1</td>\n",
              "      <td>23200.0</td>\n",
              "      <td>23200</td>\n",
              "      <td>Банк. карта: Банк Россия (банк. карта)</td>\n",
              "      <td>2023-06-10 19:41:15</td>\n",
              "      <td>NaT</td>\n",
              "      <td>2023-08-15 15:00:00</td>\n",
              "      <td>1</td>\n",
              "      <td>2023-08-16 12:00:00</td>\n",
              "      <td>Официальный сайт</td>\n",
              "      <td>Номер «Студия»</td>\n",
              "      <td>2</td>\n",
              "      <td>4</td>\n",
              "    </tr>\n",
              "    <tr>\n",
              "      <th>17112</th>\n",
              "      <td>1</td>\n",
              "      <td>13900.0</td>\n",
              "      <td>13900</td>\n",
              "      <td>Отложенная электронная оплата: Банк Россия (ба...</td>\n",
              "      <td>2022-08-22 11:12:58</td>\n",
              "      <td>NaT</td>\n",
              "      <td>2022-08-29 15:00:00</td>\n",
              "      <td>1</td>\n",
              "      <td>2022-08-30 12:00:00</td>\n",
              "      <td>Бронирование из экстранета</td>\n",
              "      <td>Номер «Стандарт»</td>\n",
              "      <td>2</td>\n",
              "      <td>2</td>\n",
              "    </tr>\n",
              "  </tbody>\n",
              "</table>\n",
              "</div>\n",
              "    <div class=\"colab-df-buttons\">\n",
              "\n",
              "  <div class=\"colab-df-container\">\n",
              "    <button class=\"colab-df-convert\" onclick=\"convertToInteractive('df-9a85d416-9ace-4930-afb6-6fab23e8495f')\"\n",
              "            title=\"Convert this dataframe to an interactive table.\"\n",
              "            style=\"display:none;\">\n",
              "\n",
              "  <svg xmlns=\"http://www.w3.org/2000/svg\" height=\"24px\" viewBox=\"0 -960 960 960\">\n",
              "    <path d=\"M120-120v-720h720v720H120Zm60-500h600v-160H180v160Zm220 220h160v-160H400v160Zm0 220h160v-160H400v160ZM180-400h160v-160H180v160Zm440 0h160v-160H620v160ZM180-180h160v-160H180v160Zm440 0h160v-160H620v160Z\"/>\n",
              "  </svg>\n",
              "    </button>\n",
              "\n",
              "  <style>\n",
              "    .colab-df-container {\n",
              "      display:flex;\n",
              "      gap: 12px;\n",
              "    }\n",
              "\n",
              "    .colab-df-convert {\n",
              "      background-color: #E8F0FE;\n",
              "      border: none;\n",
              "      border-radius: 50%;\n",
              "      cursor: pointer;\n",
              "      display: none;\n",
              "      fill: #1967D2;\n",
              "      height: 32px;\n",
              "      padding: 0 0 0 0;\n",
              "      width: 32px;\n",
              "    }\n",
              "\n",
              "    .colab-df-convert:hover {\n",
              "      background-color: #E2EBFA;\n",
              "      box-shadow: 0px 1px 2px rgba(60, 64, 67, 0.3), 0px 1px 3px 1px rgba(60, 64, 67, 0.15);\n",
              "      fill: #174EA6;\n",
              "    }\n",
              "\n",
              "    .colab-df-buttons div {\n",
              "      margin-bottom: 4px;\n",
              "    }\n",
              "\n",
              "    [theme=dark] .colab-df-convert {\n",
              "      background-color: #3B4455;\n",
              "      fill: #D2E3FC;\n",
              "    }\n",
              "\n",
              "    [theme=dark] .colab-df-convert:hover {\n",
              "      background-color: #434B5C;\n",
              "      box-shadow: 0px 1px 3px 1px rgba(0, 0, 0, 0.15);\n",
              "      filter: drop-shadow(0px 1px 2px rgba(0, 0, 0, 0.3));\n",
              "      fill: #FFFFFF;\n",
              "    }\n",
              "  </style>\n",
              "\n",
              "    <script>\n",
              "      const buttonEl =\n",
              "        document.querySelector('#df-9a85d416-9ace-4930-afb6-6fab23e8495f button.colab-df-convert');\n",
              "      buttonEl.style.display =\n",
              "        google.colab.kernel.accessAllowed ? 'block' : 'none';\n",
              "\n",
              "      async function convertToInteractive(key) {\n",
              "        const element = document.querySelector('#df-9a85d416-9ace-4930-afb6-6fab23e8495f');\n",
              "        const dataTable =\n",
              "          await google.colab.kernel.invokeFunction('convertToInteractive',\n",
              "                                                    [key], {});\n",
              "        if (!dataTable) return;\n",
              "\n",
              "        const docLinkHtml = 'Like what you see? Visit the ' +\n",
              "          '<a target=\"_blank\" href=https://colab.research.google.com/notebooks/data_table.ipynb>data table notebook</a>'\n",
              "          + ' to learn more about interactive tables.';\n",
              "        element.innerHTML = '';\n",
              "        dataTable['output_type'] = 'display_data';\n",
              "        await google.colab.output.renderOutput(dataTable, element);\n",
              "        const docLink = document.createElement('div');\n",
              "        docLink.innerHTML = docLinkHtml;\n",
              "        element.appendChild(docLink);\n",
              "      }\n",
              "    </script>\n",
              "  </div>\n",
              "\n",
              "\n",
              "<div id=\"df-50a33900-83bc-4113-ae1d-0b82fcdd48e0\">\n",
              "  <button class=\"colab-df-quickchart\" onclick=\"quickchart('df-50a33900-83bc-4113-ae1d-0b82fcdd48e0')\"\n",
              "            title=\"Suggest charts\"\n",
              "            style=\"display:none;\">\n",
              "\n",
              "<svg xmlns=\"http://www.w3.org/2000/svg\" height=\"24px\"viewBox=\"0 0 24 24\"\n",
              "     width=\"24px\">\n",
              "    <g>\n",
              "        <path d=\"M19 3H5c-1.1 0-2 .9-2 2v14c0 1.1.9 2 2 2h14c1.1 0 2-.9 2-2V5c0-1.1-.9-2-2-2zM9 17H7v-7h2v7zm4 0h-2V7h2v10zm4 0h-2v-4h2v4z\"/>\n",
              "    </g>\n",
              "</svg>\n",
              "  </button>\n",
              "\n",
              "<style>\n",
              "  .colab-df-quickchart {\n",
              "      --bg-color: #E8F0FE;\n",
              "      --fill-color: #1967D2;\n",
              "      --hover-bg-color: #E2EBFA;\n",
              "      --hover-fill-color: #174EA6;\n",
              "      --disabled-fill-color: #AAA;\n",
              "      --disabled-bg-color: #DDD;\n",
              "  }\n",
              "\n",
              "  [theme=dark] .colab-df-quickchart {\n",
              "      --bg-color: #3B4455;\n",
              "      --fill-color: #D2E3FC;\n",
              "      --hover-bg-color: #434B5C;\n",
              "      --hover-fill-color: #FFFFFF;\n",
              "      --disabled-bg-color: #3B4455;\n",
              "      --disabled-fill-color: #666;\n",
              "  }\n",
              "\n",
              "  .colab-df-quickchart {\n",
              "    background-color: var(--bg-color);\n",
              "    border: none;\n",
              "    border-radius: 50%;\n",
              "    cursor: pointer;\n",
              "    display: none;\n",
              "    fill: var(--fill-color);\n",
              "    height: 32px;\n",
              "    padding: 0;\n",
              "    width: 32px;\n",
              "  }\n",
              "\n",
              "  .colab-df-quickchart:hover {\n",
              "    background-color: var(--hover-bg-color);\n",
              "    box-shadow: 0 1px 2px rgba(60, 64, 67, 0.3), 0 1px 3px 1px rgba(60, 64, 67, 0.15);\n",
              "    fill: var(--button-hover-fill-color);\n",
              "  }\n",
              "\n",
              "  .colab-df-quickchart-complete:disabled,\n",
              "  .colab-df-quickchart-complete:disabled:hover {\n",
              "    background-color: var(--disabled-bg-color);\n",
              "    fill: var(--disabled-fill-color);\n",
              "    box-shadow: none;\n",
              "  }\n",
              "\n",
              "  .colab-df-spinner {\n",
              "    border: 2px solid var(--fill-color);\n",
              "    border-color: transparent;\n",
              "    border-bottom-color: var(--fill-color);\n",
              "    animation:\n",
              "      spin 1s steps(1) infinite;\n",
              "  }\n",
              "\n",
              "  @keyframes spin {\n",
              "    0% {\n",
              "      border-color: transparent;\n",
              "      border-bottom-color: var(--fill-color);\n",
              "      border-left-color: var(--fill-color);\n",
              "    }\n",
              "    20% {\n",
              "      border-color: transparent;\n",
              "      border-left-color: var(--fill-color);\n",
              "      border-top-color: var(--fill-color);\n",
              "    }\n",
              "    30% {\n",
              "      border-color: transparent;\n",
              "      border-left-color: var(--fill-color);\n",
              "      border-top-color: var(--fill-color);\n",
              "      border-right-color: var(--fill-color);\n",
              "    }\n",
              "    40% {\n",
              "      border-color: transparent;\n",
              "      border-right-color: var(--fill-color);\n",
              "      border-top-color: var(--fill-color);\n",
              "    }\n",
              "    60% {\n",
              "      border-color: transparent;\n",
              "      border-right-color: var(--fill-color);\n",
              "    }\n",
              "    80% {\n",
              "      border-color: transparent;\n",
              "      border-right-color: var(--fill-color);\n",
              "      border-bottom-color: var(--fill-color);\n",
              "    }\n",
              "    90% {\n",
              "      border-color: transparent;\n",
              "      border-bottom-color: var(--fill-color);\n",
              "    }\n",
              "  }\n",
              "</style>\n",
              "\n",
              "  <script>\n",
              "    async function quickchart(key) {\n",
              "      const quickchartButtonEl =\n",
              "        document.querySelector('#' + key + ' button');\n",
              "      quickchartButtonEl.disabled = true;  // To prevent multiple clicks.\n",
              "      quickchartButtonEl.classList.add('colab-df-spinner');\n",
              "      try {\n",
              "        const charts = await google.colab.kernel.invokeFunction(\n",
              "            'suggestCharts', [key], {});\n",
              "      } catch (error) {\n",
              "        console.error('Error during call to suggestCharts:', error);\n",
              "      }\n",
              "      quickchartButtonEl.classList.remove('colab-df-spinner');\n",
              "      quickchartButtonEl.classList.add('colab-df-quickchart-complete');\n",
              "    }\n",
              "    (() => {\n",
              "      let quickchartButtonEl =\n",
              "        document.querySelector('#df-50a33900-83bc-4113-ae1d-0b82fcdd48e0 button');\n",
              "      quickchartButtonEl.style.display =\n",
              "        google.colab.kernel.accessAllowed ? 'block' : 'none';\n",
              "    })();\n",
              "  </script>\n",
              "</div>\n",
              "\n",
              "    </div>\n",
              "  </div>\n"
            ],
            "application/vnd.google.colaboratory.intrinsic+json": {
              "type": "dataframe",
              "summary": "{\n  \"name\": \"train_data\",\n  \"rows\": 5,\n  \"fields\": [\n    {\n      \"column\": \"\\u041d\\u043e\\u043c\\u0435\\u0440\\u043e\\u0432\",\n      \"properties\": {\n        \"dtype\": \"number\",\n        \"std\": 0,\n        \"min\": 1,\n        \"max\": 1,\n        \"num_unique_values\": 1,\n        \"samples\": [\n          1\n        ],\n        \"semantic_type\": \"\",\n        \"description\": \"\"\n      }\n    },\n    {\n      \"column\": \"\\u0421\\u0442\\u043e\\u0438\\u043c\\u043e\\u0441\\u0442\\u044c\",\n      \"properties\": {\n        \"dtype\": \"number\",\n        \"std\": 8113.877001779112,\n        \"min\": 8700.0,\n        \"max\": 28800.0,\n        \"num_unique_values\": 4,\n        \"samples\": [\n          8700.0\n        ],\n        \"semantic_type\": \"\",\n        \"description\": \"\"\n      }\n    },\n    {\n      \"column\": \"\\u0412\\u043d\\u0435\\u0441\\u0435\\u043d\\u0430 \\u043f\\u0440\\u0435\\u0434\\u043e\\u043f\\u043b\\u0430\\u0442\\u0430\",\n      \"properties\": {\n        \"dtype\": \"number\",\n        \"std\": 10960,\n        \"min\": 0,\n        \"max\": 28800,\n        \"num_unique_values\": 4,\n        \"samples\": [\n          0\n        ],\n        \"semantic_type\": \"\",\n        \"description\": \"\"\n      }\n    },\n    {\n      \"column\": \"\\u0421\\u043f\\u043e\\u0441\\u043e\\u0431 \\u043e\\u043f\\u043b\\u0430\\u0442\\u044b\",\n      \"properties\": {\n        \"dtype\": \"string\",\n        \"num_unique_values\": 3,\n        \"samples\": [\n          \"\\u0411\\u0430\\u043d\\u043a. \\u043a\\u0430\\u0440\\u0442\\u0430: \\u0411\\u0430\\u043d\\u043a \\u0420\\u043e\\u0441\\u0441\\u0438\\u044f (\\u0431\\u0430\\u043d\\u043a. \\u043a\\u0430\\u0440\\u0442\\u0430)\"\n        ],\n        \"semantic_type\": \"\",\n        \"description\": \"\"\n      }\n    },\n    {\n      \"column\": \"\\u0414\\u0430\\u0442\\u0430 \\u0431\\u0440\\u043e\\u043d\\u0438\\u0440\\u043e\\u0432\\u0430\\u043d\\u0438\\u044f\",\n      \"properties\": {\n        \"dtype\": \"date\",\n        \"min\": \"2022-05-17 11:23:03\",\n        \"max\": \"2023-08-04 00:47:36\",\n        \"num_unique_values\": 5,\n        \"samples\": [\n          \"2023-04-19 09:32:46\"\n        ],\n        \"semantic_type\": \"\",\n        \"description\": \"\"\n      }\n    },\n    {\n      \"column\": \"\\u0414\\u0430\\u0442\\u0430 \\u043e\\u0442\\u043c\\u0435\\u043d\\u044b\",\n      \"properties\": {\n        \"dtype\": \"date\",\n        \"min\": \"NaT\",\n        \"max\": \"NaT\",\n        \"num_unique_values\": 0,\n        \"samples\": [],\n        \"semantic_type\": \"\",\n        \"description\": \"\"\n      }\n    },\n    {\n      \"column\": \"\\u0417\\u0430\\u0435\\u0437\\u0434\",\n      \"properties\": {\n        \"dtype\": \"date\",\n        \"min\": \"2022-05-28 15:00:00\",\n        \"max\": \"2023-08-17 15:00:00\",\n        \"num_unique_values\": 5,\n        \"samples\": [],\n        \"semantic_type\": \"\",\n        \"description\": \"\"\n      }\n    },\n    {\n      \"column\": \"\\u041d\\u043e\\u0447\\u0435\\u0439\",\n      \"properties\": {\n        \"dtype\": \"number\",\n        \"std\": 0,\n        \"min\": 1,\n        \"max\": 2,\n        \"num_unique_values\": 2,\n        \"samples\": [],\n        \"semantic_type\": \"\",\n        \"description\": \"\"\n      }\n    },\n    {\n      \"column\": \"\\u0412\\u044b\\u0435\\u0437\\u0434\",\n      \"properties\": {\n        \"dtype\": \"date\",\n        \"min\": \"2022-05-29 12:00:00\",\n        \"max\": \"2023-08-19 12:00:00\",\n        \"num_unique_values\": 5,\n        \"samples\": [],\n        \"semantic_type\": \"\",\n        \"description\": \"\"\n      }\n    },\n    {\n      \"column\": \"\\u0418\\u0441\\u0442\\u043e\\u0447\\u043d\\u0438\\u043a\",\n      \"properties\": {\n        \"dtype\": \"string\",\n        \"num_unique_values\": 3,\n        \"samples\": [],\n        \"semantic_type\": \"\",\n        \"description\": \"\"\n      }\n    },\n    {\n      \"column\": \"\\u041a\\u0430\\u0442\\u0435\\u0433\\u043e\\u0440\\u0438\\u044f \\u043d\\u043e\\u043c\\u0435\\u0440\\u0430\",\n      \"properties\": {\n        \"dtype\": \"category\",\n        \"num_unique_values\": 2,\n        \"samples\": [],\n        \"semantic_type\": \"\",\n        \"description\": \"\"\n      }\n    },\n    {\n      \"column\": \"\\u0413\\u043e\\u0441\\u0442\\u0435\\u0439\",\n      \"properties\": {\n        \"dtype\": \"number\",\n        \"std\": 0,\n        \"min\": 2,\n        \"max\": 2,\n        \"num_unique_values\": 1,\n        \"samples\": [],\n        \"semantic_type\": \"\",\n        \"description\": \"\"\n      }\n    },\n    {\n      \"column\": \"\\u0413\\u043e\\u0441\\u0442\\u0438\\u043d\\u0438\\u0446\\u0430\",\n      \"properties\": {\n        \"dtype\": \"number\",\n        \"std\": 1,\n        \"min\": 1,\n        \"max\": 4,\n        \"num_unique_values\": 4,\n        \"samples\": [],\n        \"semantic_type\": \"\",\n        \"description\": \"\"\n      }\n    }\n  ]\n}"
            }
          },
          "metadata": {},
          "execution_count": 7
        }
      ]
    },
    {
      "cell_type": "code",
      "source": [
        "train_date_columns = ['Дата бронирования', 'Дата отмены', 'Заезд', 'Выезд']\n",
        "test_date_columns = ['Дата бронирования', 'Заезд', 'Выезд']\n",
        "\n",
        "for col in train_date_columns:\n",
        "    train_data[col] = pd.to_datetime(train_data[col], errors='coerce')\n",
        "\n",
        "for col in test_date_columns:\n",
        "    test_data[col] = pd.to_datetime(test_data[col], errors='coerce')\n"
      ],
      "metadata": {
        "id": "gpoWcw0hLtXo"
      },
      "execution_count": null,
      "outputs": []
    },
    {
      "cell_type": "code",
      "source": [
        "def extract_date_features(df, is_train=True):\n",
        "    df['День бронирования'] = df['Дата бронирования'].dt.day\n",
        "    df['Месяц бронирования'] = df['Дата бронирования'].dt.month\n",
        "    df['День недели бронирования'] = df['Дата бронирования'].dt.weekday\n",
        "    df['Количество номеров'] = df['Категория номера'].apply(lambda x: len(x.split('\\n')) if pd.notnull(x) else 0)\n",
        "    df['День заезда'] = df['Заезд'].dt.day\n",
        "    df['Месяц заезда'] = df['Заезд'].dt.month\n",
        "    df['День недели заезда'] = df['Заезд'].dt.weekday\n",
        "\n",
        "    df['Количество дней'] = (df['Заезд'] - df['Дата бронирования']).dt.days\n",
        "    df['prepayment_ratio'] = df['Внесена предоплата'] / df['Стоимость']\n",
        "    df['guests_per_room'] = df['Гостей'] / df['Номеров']\n",
        "\n",
        "\n",
        "    if is_train:\n",
        "        # Дополнительные признаки для тренировочного набора, если необходимо\n",
        "        pass\n",
        "\n",
        "    return df\n",
        "\n",
        "\n",
        "train_data = extract_date_features(train_data, is_train=True)\n",
        "test_data = extract_date_features(test_data, is_train=False)"
      ],
      "metadata": {
        "id": "YtOHfQdCLzCb"
      },
      "execution_count": null,
      "outputs": []
    },
    {
      "cell_type": "code",
      "source": [
        "def get_season(month):\n",
        "    if month in [12, 1, 2]:\n",
        "        return 'Зима'\n",
        "    elif month in [3, 4, 5]:\n",
        "        return 'Весна'\n",
        "    elif month in [6, 7, 8]:\n",
        "        return 'Лето'\n",
        "    else:\n",
        "        return 'Осень'\n",
        "\n",
        "test_data['booking_season'] = test_data['Месяц бронирования'].apply(get_season)\n",
        "train_data['booking_season'] = train_data['Месяц бронирования'].apply(get_season)"
      ],
      "metadata": {
        "id": "Ab91q-WOMEQ9"
      },
      "execution_count": null,
      "outputs": []
    },
    {
      "cell_type": "code",
      "source": [
        "# Список категориальных признаков\n",
        "categorical_features = ['Способ оплаты', 'Источник', 'Категория номера', 'Гостиница', 'booking_season']\n",
        "\n",
        "# Проверяем наличие пропущенных значений в категориальных признаках тестового набора\n",
        "print(\"Пропущенные значения в категориальных признаках тестового набора:\")\n",
        "print(test_data[categorical_features].isnull().sum())\n"
      ],
      "metadata": {
        "colab": {
          "base_uri": "https://localhost:8080/"
        },
        "id": "9iZQZwNNMHIH",
        "outputId": "1a9297c1-cd13-469c-996b-f9d4cd04d466"
      },
      "execution_count": null,
      "outputs": [
        {
          "output_type": "stream",
          "name": "stdout",
          "text": [
            "Пропущенные значения в категориальных признаках тестового набора:\n",
            "Способ оплаты       0\n",
            "Источник            0\n",
            "Категория номера    0\n",
            "Гостиница           0\n",
            "booking_season      0\n",
            "dtype: int64\n"
          ]
        }
      ]
    },
    {
      "cell_type": "code",
      "source": [
        "for col in categorical_features:\n",
        "    train_data[col] = train_data[col].astype(str).fillna('Missing')\n",
        "    test_data[col] = test_data[col].astype(str).fillna('Missing')\n"
      ],
      "metadata": {
        "id": "A7oGEf8xMJrl"
      },
      "execution_count": null,
      "outputs": []
    },
    {
      "cell_type": "code",
      "source": [
        "train_data['Отмена'] = train_data['Дата отмены'].notnull().astype(int)"
      ],
      "metadata": {
        "id": "-lOtnuICQkrt"
      },
      "execution_count": null,
      "outputs": []
    },
    {
      "cell_type": "code",
      "source": [
        "numerical_features = ['Номеров', 'Стоимость', 'Внесена предоплата', 'Ночей', 'Гостей',\n",
        "                      'День бронирования', 'Месяц бронирования', 'День недели бронирования',\n",
        "                      'День заезда', 'Месяц заезда', 'День недели заезда',\n",
        "                      'Количество дней', 'prepayment_ratio','guests_per_room','Количество номеров']\n",
        "\n",
        "\n",
        "for col in numerical_features:\n",
        "    train_data[col] = pd.to_numeric(train_data[col], errors='coerce')\n",
        "    test_data[col] = pd.to_numeric(test_data[col], errors='coerce')\n",
        "\n",
        "    # Заполняем пропущенные значения медианой\n",
        "    median = train_data[col].median()\n",
        "    train_data[col].fillna(median, inplace=True)\n",
        "    test_data[col].fillna(median, inplace=True)"
      ],
      "metadata": {
        "id": "uCScW6k8MMkK"
      },
      "execution_count": null,
      "outputs": []
    },
    {
      "cell_type": "code",
      "source": [
        "features = numerical_features + categorical_features\n"
      ],
      "metadata": {
        "id": "I4qC9KQDMRFf"
      },
      "execution_count": null,
      "outputs": []
    },
    {
      "cell_type": "code",
      "source": [
        "train_data.info()"
      ],
      "metadata": {
        "colab": {
          "base_uri": "https://localhost:8080/"
        },
        "id": "oAd_hYmzMVGI",
        "outputId": "a103b3a8-0f7d-4e4f-d6d2-f213b1c44d49"
      },
      "execution_count": null,
      "outputs": [
        {
          "output_type": "stream",
          "name": "stdout",
          "text": [
            "<class 'pandas.core.frame.DataFrame'>\n",
            "RangeIndex: 26174 entries, 0 to 26173\n",
            "Data columns (total 25 columns):\n",
            " #   Column                    Non-Null Count  Dtype         \n",
            "---  ------                    --------------  -----         \n",
            " 0   Номеров                   26174 non-null  int64         \n",
            " 1   Стоимость                 26174 non-null  float64       \n",
            " 2   Внесена предоплата        26174 non-null  int64         \n",
            " 3   Способ оплаты             26174 non-null  object        \n",
            " 4   Дата бронирования         26174 non-null  datetime64[ns]\n",
            " 5   Дата отмены               5192 non-null   datetime64[ns]\n",
            " 6   Заезд                     26174 non-null  datetime64[ns]\n",
            " 7   Ночей                     26174 non-null  int64         \n",
            " 8   Выезд                     26174 non-null  datetime64[ns]\n",
            " 9   Источник                  26174 non-null  object        \n",
            " 10  Категория номера          26174 non-null  object        \n",
            " 11  Гостей                    26174 non-null  int64         \n",
            " 12  Гостиница                 26174 non-null  object        \n",
            " 13  День бронирования         26174 non-null  int32         \n",
            " 14  Месяц бронирования        26174 non-null  int32         \n",
            " 15  День недели бронирования  26174 non-null  int32         \n",
            " 16  Количество номеров        26174 non-null  int64         \n",
            " 17  День заезда               26174 non-null  int32         \n",
            " 18  Месяц заезда              26174 non-null  int32         \n",
            " 19  День недели заезда        26174 non-null  int32         \n",
            " 20  Количество дней           26174 non-null  int64         \n",
            " 21  prepayment_ratio          26174 non-null  float64       \n",
            " 22  guests_per_room           26174 non-null  float64       \n",
            " 23  booking_season            26174 non-null  object        \n",
            " 24  Отмена                    26174 non-null  int64         \n",
            "dtypes: datetime64[ns](4), float64(3), int32(6), int64(7), object(5)\n",
            "memory usage: 4.4+ MB\n"
          ]
        }
      ]
    },
    {
      "cell_type": "code",
      "source": [
        "xgb_model = xgb.XGBClassifier(\n",
        "    eta=0.05,\n",
        "    n_estimators=1500,\n",
        "    max_depth=6,\n",
        "    subsample=0.7,\n",
        "    min_child_weight=0.1,\n",
        "    gamma=0.01,\n",
        "    reg_lambda=0.1,\n",
        "    reg_alpha=0.5,\n",
        "    objective=\"binary:logistic\",\n",
        "    eval_metric=\"auc\",\n",
        "\n",
        "    gpu_id=0,\n",
        "    enable_categorical=True\n",
        ")\n",
        "\n",
        "cat_model = cb.CatBoostClassifier(\n",
        "\n",
        "    n_estimators=1000,\n",
        "    learning_rate=0.03,\n",
        "    depth=5,\n",
        "    verbose=False,\n",
        "    l2_leaf_reg=3,\n",
        "    bagging_temperature=0.5,\n",
        "    rsm=0.7,\n",
        "    loss_function='Logloss',\n",
        "    auto_class_weights='Balanced',\n",
        "    random_state=42\n",
        ")"
      ],
      "metadata": {
        "id": "xLGaMBoSP96d"
      },
      "execution_count": null,
      "outputs": []
    },
    {
      "cell_type": "code",
      "source": [
        "!pip3 install -U scikit-learn==1.2.2"
      ],
      "metadata": {
        "colab": {
          "base_uri": "https://localhost:8080/"
        },
        "id": "cRc7wbfYN1Po",
        "outputId": "d9d78835-6aa8-4926-cbe4-2677d123fd0e"
      },
      "execution_count": null,
      "outputs": [
        {
          "output_type": "stream",
          "name": "stdout",
          "text": [
            "Requirement already satisfied: scikit-learn==1.2.2 in /usr/local/lib/python3.10/dist-packages (1.2.2)\n",
            "Requirement already satisfied: numpy>=1.17.3 in /usr/local/lib/python3.10/dist-packages (from scikit-learn==1.2.2) (1.26.4)\n",
            "Requirement already satisfied: scipy>=1.3.2 in /usr/local/lib/python3.10/dist-packages (from scikit-learn==1.2.2) (1.13.1)\n",
            "Requirement already satisfied: joblib>=1.1.1 in /usr/local/lib/python3.10/dist-packages (from scikit-learn==1.2.2) (1.4.2)\n",
            "Requirement already satisfied: threadpoolctl>=2.0.0 in /usr/local/lib/python3.10/dist-packages (from scikit-learn==1.2.2) (3.5.0)\n"
          ]
        }
      ]
    },
    {
      "cell_type": "code",
      "source": [
        "from sklearn.pipeline import Pipeline\n",
        "from sklearn.compose import ColumnTransformer\n",
        "from sklearn.preprocessing import StandardScaler, OneHotEncoder\n",
        "from sklearn.impute import SimpleImputer\n",
        "from sklearn.ensemble import StackingClassifier\n",
        "from sklearn.linear_model import LogisticRegression\n",
        "from sklearn.model_selection import StratifiedKFold, cross_val_score\n",
        "from sklearn.metrics import roc_auc_score"
      ],
      "metadata": {
        "id": "-4_PRd5NN_Fo"
      },
      "execution_count": null,
      "outputs": []
    },
    {
      "cell_type": "code",
      "source": [
        "numerical_transformer = Pipeline(steps=[\n",
        "    (\"imputer\", SimpleImputer(strategy=\"mean\")),\n",
        "    (\"scaler\", StandardScaler())\n",
        "])\n",
        "\n",
        "categorical_transformer = Pipeline(steps=[\n",
        "    (\"imputer\", SimpleImputer(strategy=\"most_frequent\")),\n",
        "    (\"onehot\", OneHotEncoder(handle_unknown=\"ignore\"))\n",
        "])\n"
      ],
      "metadata": {
        "id": "vUJFpI4qPPoq"
      },
      "execution_count": null,
      "outputs": []
    },
    {
      "cell_type": "code",
      "source": [
        "preprocessor = ColumnTransformer(transformers=[\n",
        "    (\"numerical\", numerical_transformer, numerical_features),\n",
        "    (\"categorical\", categorical_transformer, categorical_features)\n",
        "])\n"
      ],
      "metadata": {
        "id": "vauNX6oWPUtg"
      },
      "execution_count": null,
      "outputs": []
    },
    {
      "cell_type": "code",
      "source": [
        "X = train_data[features]\n",
        "y = train_data['Отмена']\n",
        "X_test = test_data[features]"
      ],
      "metadata": {
        "id": "OEBa_KHLQRWP"
      },
      "execution_count": null,
      "outputs": []
    },
    {
      "cell_type": "code",
      "source": [
        "stacking_model = StackingClassifier(\n",
        "    estimators=[\n",
        "        ('xgb', xgb_model),\n",
        "        ('cat', cat_model)\n",
        "    ],\n",
        "    final_estimator=LogisticRegression(),\n",
        "    stack_method='predict_proba'\n",
        ")\n",
        "\n",
        "model_pipeline = Pipeline(steps=[\n",
        "    (\"preprocessor\", preprocessor),\n",
        "    (\"stacking_model\", stacking_model)\n",
        "])\n",
        "\n",
        "kf = StratifiedKFold(n_splits=5, shuffle=True, random_state=42)\n",
        "auc_scores = []\n",
        "\n",
        "for fold, (train_index, val_index) in enumerate(kf.split(X, y)):\n",
        "    print(f\"Фолд {fold+1}\")\n",
        "\n",
        "    X_train, X_val = X.iloc[train_index], X.iloc[val_index]\n",
        "    y_train, y_val = y.iloc[train_index], y.iloc[val_index]\n",
        "\n",
        "    model_pipeline.fit(X_train, y_train)\n",
        "\n",
        "    y_pred_proba_val = model_pipeline.predict_proba(X_val)[:, 1]\n",
        "    auc = roc_auc_score(y_val, y_pred_proba_val)\n",
        "    auc_scores.append(auc)\n",
        "\n",
        "    print(f\"ROC-AUC на валидационном наборе: {auc:.4f}\")\n",
        "\n",
        "print(f\"Средний ROC-AUC по всем фолдам: {np.mean(auc_scores):.4f}\")\n",
        "y_pred_proba_test = model_pipeline.predict_proba(X_test)[:, 1]\n",
        "\n",
        "pd.DataFrame(y_pred_proba_test, columns=['probability']).to_csv('predictions_stack.csv', index=False)\n"
      ],
      "metadata": {
        "colab": {
          "base_uri": "https://localhost:8080/"
        },
        "id": "Ky_qaTalPXMw",
        "outputId": "fa32460a-9f18-47ab-a601-b9e2d1637df1"
      },
      "execution_count": null,
      "outputs": [
        {
          "output_type": "stream",
          "name": "stdout",
          "text": [
            "Фолд 1\n",
            "ROC-AUC на валидационном наборе: 0.8550\n",
            "Фолд 2\n",
            "ROC-AUC на валидационном наборе: 0.8545\n",
            "Фолд 3\n",
            "ROC-AUC на валидационном наборе: 0.8453\n",
            "Фолд 4\n",
            "ROC-AUC на валидационном наборе: 0.8642\n",
            "Фолд 5\n",
            "ROC-AUC на валидационном наборе: 0.8612\n",
            "Средний ROC-AUC по всем фолдам: 0.8560\n"
          ]
        }
      ]
    },
    {
      "cell_type": "code",
      "source": [],
      "metadata": {
        "id": "S47MlHcHUsLL"
      },
      "execution_count": null,
      "outputs": []
    }
  ]
}